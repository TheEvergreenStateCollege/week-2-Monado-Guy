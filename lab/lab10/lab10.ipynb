{
  "cells": [
    {
      "cell_type": "code",
      "execution_count": null,
      "metadata": {
        "deletable": false,
        "editable": false,
        "id": "quxcvCJIzsJ3"
      },
      "outputs": [],
      "source": [
        "# Initialize Otter\n",
        "import otter\n",
        "grader = otter.Notebook(\"lab10.ipynb\")"
      ]
    },
    {
      "cell_type": "markdown",
      "metadata": {
        "nbgrader": {
          "grade": false,
          "grade_id": "title",
          "locked": true,
          "schema_version": 2,
          "solution": false
        },
        "id": "EpGdz8s_zsJ6"
      },
      "source": [
        "# Lab 10: Feature Engineering & Cross-Validation\n",
        "In this lab, you will practice using `scikit-learn` to do feature engineering and cross-validation to produce a model with low error on held-out data.\n",
        "\n",
        "### Due Date \n",
        "This assignment is due on **Thursday, November 4th at 11:59pm PDT**.\n",
        "\n",
        "### Collaboration Policy\n",
        "Data science is a collaborative activity. While you may talk with others about this assignment, we ask that you **write your solutions individually**. If you discuss the assignment with others, please **include their names** in the cell below."
      ]
    },
    {
      "cell_type": "markdown",
      "metadata": {
        "id": "G8nihbJNzsJ8"
      },
      "source": [
        "**Collaborators:** *list names here*"
      ]
    },
    {
      "cell_type": "code",
      "execution_count": 1,
      "metadata": {
        "nbgrader": {
          "grade": false,
          "grade_id": "setup",
          "locked": true,
          "schema_version": 2,
          "solution": false
        },
        "id": "kxve2OhTzsJ9"
      },
      "outputs": [],
      "source": [
        "# Run this cell to set up your notebook\n",
        "import seaborn as sns\n",
        "import csv\n",
        "import numpy as np\n",
        "import pandas as pd\n",
        "import matplotlib.pyplot as plt\n",
        "%matplotlib inline\n",
        "sns.set()\n",
        "sns.set_context(\"talk\")\n",
        "\n",
        "from IPython.display import display, Latex, Markdown"
      ]
    },
    {
      "cell_type": "markdown",
      "metadata": {
        "nbgrader": {
          "grade": false,
          "grade_id": "intro",
          "locked": true,
          "schema_version": 2,
          "solution": false
        },
        "id": "rduV5vHtzsJ-"
      },
      "source": [
        "### Introduction\n",
        "\n",
        "For this lab, we will use a toy dataset to predict the house prices in Boston with data provided by the `sklearn.datasets` package. There are more interesting datasets in the package if you want to explore them during your free time!\n",
        "\n",
        "Run the following cell to load the data. `load_boston()` will return a dictionary object which includes keys for:\n",
        "- `data` : the covariates (X)\n",
        "- `target` : the response vector (Y)\n",
        "- `feature_names`: the column names\n",
        "- `DESCR` : a full description of the data\n",
        "- `filename`: name of the csv file\n"
      ]
    },
    {
      "cell_type": "code",
      "execution_count": 2,
      "metadata": {
        "nbgrader": {
          "grade": false,
          "grade_id": "load_data",
          "locked": true,
          "schema_version": 2,
          "solution": false
        },
        "scrolled": true,
        "id": "5zISm66hzsJ_",
        "outputId": "f86b43e4-a33f-40f6-89bc-dfb2b826b3c0",
        "colab": {
          "base_uri": "https://localhost:8080/"
        }
      },
      "outputs": [
        {
          "output_type": "stream",
          "name": "stdout",
          "text": [
            "dict_keys(['data', 'target', 'feature_names', 'DESCR', 'filename', 'data_module'])\n"
          ]
        },
        {
          "output_type": "stream",
          "name": "stderr",
          "text": [
            "/usr/local/lib/python3.7/dist-packages/sklearn/utils/deprecation.py:87: FutureWarning: Function load_boston is deprecated; `load_boston` is deprecated in 1.0 and will be removed in 1.2.\n",
            "\n",
            "    The Boston housing prices dataset has an ethical problem. You can refer to\n",
            "    the documentation of this function for further details.\n",
            "\n",
            "    The scikit-learn maintainers therefore strongly discourage the use of this\n",
            "    dataset unless the purpose of the code is to study and educate about\n",
            "    ethical issues in data science and machine learning.\n",
            "\n",
            "    In this special case, you can fetch the dataset from the original\n",
            "    source::\n",
            "\n",
            "        import pandas as pd\n",
            "        import numpy as np\n",
            "\n",
            "\n",
            "        data_url = \"http://lib.stat.cmu.edu/datasets/boston\"\n",
            "        raw_df = pd.read_csv(data_url, sep=\"\\s+\", skiprows=22, header=None)\n",
            "        data = np.hstack([raw_df.values[::2, :], raw_df.values[1::2, :2]])\n",
            "        target = raw_df.values[1::2, 2]\n",
            "\n",
            "    Alternative datasets include the California housing dataset (i.e.\n",
            "    :func:`~sklearn.datasets.fetch_california_housing`) and the Ames housing\n",
            "    dataset. You can load the datasets as follows::\n",
            "\n",
            "        from sklearn.datasets import fetch_california_housing\n",
            "        housing = fetch_california_housing()\n",
            "\n",
            "    for the California housing dataset and::\n",
            "\n",
            "        from sklearn.datasets import fetch_openml\n",
            "        housing = fetch_openml(name=\"house_prices\", as_frame=True)\n",
            "\n",
            "    for the Ames housing dataset.\n",
            "    \n",
            "  warnings.warn(msg, category=FutureWarning)\n"
          ]
        }
      ],
      "source": [
        "from sklearn.datasets import load_boston\n",
        "\n",
        "boston_data = load_boston()\n",
        "print(boston_data.keys())"
      ]
    },
    {
      "cell_type": "code",
      "execution_count": null,
      "metadata": {
        "id": "3U9fMdsTzsKA"
      },
      "outputs": [],
      "source": [
        "print(boston_data['DESCR'])"
      ]
    },
    {
      "cell_type": "markdown",
      "metadata": {
        "nbgrader": {
          "grade": false,
          "grade_id": "data_description",
          "locked": true,
          "schema_version": 2,
          "solution": false
        },
        "id": "TVqx88QgzsKB"
      },
      "source": [
        "A look at the `DESCR` attribute tells us the data contains these features:\n",
        "\n",
        "    1. CRIM      per capita crime rate by town\n",
        "    2. ZN        proportion of residential land zoned for lots over \n",
        "                 25,000 sq.ft.\n",
        "    3. INDUS     proportion of non-retail business acres per town\n",
        "    4. CHAS      Charles River dummy variable (= 1 if tract bounds \n",
        "                 river; 0 otherwise)\n",
        "    5. NOX       nitric oxides concentration (parts per 10 million)\n",
        "    6. RM        average number of rooms per dwelling\n",
        "    7. AGE       proportion of owner-occupied units built prior to 1940\n",
        "    8. DIS       weighted distances to five Boston employment centres\n",
        "    9. RAD       index of accessibility to radial highways\n",
        "    10. TAX      full-value property-tax rate per 10,000 USD\n",
        "    11. PTRATIO  pupil-teacher ratio by town\n",
        "    12. B        1000(Bk - 0.63)^2 where Bk is the proportion of black \n",
        "                 residents by town\n",
        "    13. LSTAT    % lower status of the population\n",
        "    \n",
        "Let's now convert this data into a pandas DataFrame. "
      ]
    },
    {
      "cell_type": "code",
      "execution_count": 3,
      "metadata": {
        "nbgrader": {
          "grade": false,
          "grade_id": "data_head",
          "locked": true,
          "schema_version": 2,
          "solution": false
        },
        "id": "Ft4TwVmqzsKC",
        "outputId": "20dfd487-8f79-43ce-b7f3-ec05a62183b1",
        "colab": {
          "base_uri": "https://localhost:8080/",
          "height": 206
        }
      },
      "outputs": [
        {
          "output_type": "execute_result",
          "data": {
            "text/plain": [
              "      CRIM    ZN  INDUS  CHAS    NOX     RM   AGE     DIS  RAD    TAX  \\\n",
              "0  0.00632  18.0   2.31   0.0  0.538  6.575  65.2  4.0900  1.0  296.0   \n",
              "1  0.02731   0.0   7.07   0.0  0.469  6.421  78.9  4.9671  2.0  242.0   \n",
              "2  0.02729   0.0   7.07   0.0  0.469  7.185  61.1  4.9671  2.0  242.0   \n",
              "3  0.03237   0.0   2.18   0.0  0.458  6.998  45.8  6.0622  3.0  222.0   \n",
              "4  0.06905   0.0   2.18   0.0  0.458  7.147  54.2  6.0622  3.0  222.0   \n",
              "\n",
              "   PTRATIO       B  LSTAT  \n",
              "0     15.3  396.90   4.98  \n",
              "1     17.8  396.90   9.14  \n",
              "2     17.8  392.83   4.03  \n",
              "3     18.7  394.63   2.94  \n",
              "4     18.7  396.90   5.33  "
            ],
            "text/html": [
              "\n",
              "  <div id=\"df-a65516e2-0002-42cf-8d24-eaf791ca2909\">\n",
              "    <div class=\"colab-df-container\">\n",
              "      <div>\n",
              "<style scoped>\n",
              "    .dataframe tbody tr th:only-of-type {\n",
              "        vertical-align: middle;\n",
              "    }\n",
              "\n",
              "    .dataframe tbody tr th {\n",
              "        vertical-align: top;\n",
              "    }\n",
              "\n",
              "    .dataframe thead th {\n",
              "        text-align: right;\n",
              "    }\n",
              "</style>\n",
              "<table border=\"1\" class=\"dataframe\">\n",
              "  <thead>\n",
              "    <tr style=\"text-align: right;\">\n",
              "      <th></th>\n",
              "      <th>CRIM</th>\n",
              "      <th>ZN</th>\n",
              "      <th>INDUS</th>\n",
              "      <th>CHAS</th>\n",
              "      <th>NOX</th>\n",
              "      <th>RM</th>\n",
              "      <th>AGE</th>\n",
              "      <th>DIS</th>\n",
              "      <th>RAD</th>\n",
              "      <th>TAX</th>\n",
              "      <th>PTRATIO</th>\n",
              "      <th>B</th>\n",
              "      <th>LSTAT</th>\n",
              "    </tr>\n",
              "  </thead>\n",
              "  <tbody>\n",
              "    <tr>\n",
              "      <th>0</th>\n",
              "      <td>0.00632</td>\n",
              "      <td>18.0</td>\n",
              "      <td>2.31</td>\n",
              "      <td>0.0</td>\n",
              "      <td>0.538</td>\n",
              "      <td>6.575</td>\n",
              "      <td>65.2</td>\n",
              "      <td>4.0900</td>\n",
              "      <td>1.0</td>\n",
              "      <td>296.0</td>\n",
              "      <td>15.3</td>\n",
              "      <td>396.90</td>\n",
              "      <td>4.98</td>\n",
              "    </tr>\n",
              "    <tr>\n",
              "      <th>1</th>\n",
              "      <td>0.02731</td>\n",
              "      <td>0.0</td>\n",
              "      <td>7.07</td>\n",
              "      <td>0.0</td>\n",
              "      <td>0.469</td>\n",
              "      <td>6.421</td>\n",
              "      <td>78.9</td>\n",
              "      <td>4.9671</td>\n",
              "      <td>2.0</td>\n",
              "      <td>242.0</td>\n",
              "      <td>17.8</td>\n",
              "      <td>396.90</td>\n",
              "      <td>9.14</td>\n",
              "    </tr>\n",
              "    <tr>\n",
              "      <th>2</th>\n",
              "      <td>0.02729</td>\n",
              "      <td>0.0</td>\n",
              "      <td>7.07</td>\n",
              "      <td>0.0</td>\n",
              "      <td>0.469</td>\n",
              "      <td>7.185</td>\n",
              "      <td>61.1</td>\n",
              "      <td>4.9671</td>\n",
              "      <td>2.0</td>\n",
              "      <td>242.0</td>\n",
              "      <td>17.8</td>\n",
              "      <td>392.83</td>\n",
              "      <td>4.03</td>\n",
              "    </tr>\n",
              "    <tr>\n",
              "      <th>3</th>\n",
              "      <td>0.03237</td>\n",
              "      <td>0.0</td>\n",
              "      <td>2.18</td>\n",
              "      <td>0.0</td>\n",
              "      <td>0.458</td>\n",
              "      <td>6.998</td>\n",
              "      <td>45.8</td>\n",
              "      <td>6.0622</td>\n",
              "      <td>3.0</td>\n",
              "      <td>222.0</td>\n",
              "      <td>18.7</td>\n",
              "      <td>394.63</td>\n",
              "      <td>2.94</td>\n",
              "    </tr>\n",
              "    <tr>\n",
              "      <th>4</th>\n",
              "      <td>0.06905</td>\n",
              "      <td>0.0</td>\n",
              "      <td>2.18</td>\n",
              "      <td>0.0</td>\n",
              "      <td>0.458</td>\n",
              "      <td>7.147</td>\n",
              "      <td>54.2</td>\n",
              "      <td>6.0622</td>\n",
              "      <td>3.0</td>\n",
              "      <td>222.0</td>\n",
              "      <td>18.7</td>\n",
              "      <td>396.90</td>\n",
              "      <td>5.33</td>\n",
              "    </tr>\n",
              "  </tbody>\n",
              "</table>\n",
              "</div>\n",
              "      <button class=\"colab-df-convert\" onclick=\"convertToInteractive('df-a65516e2-0002-42cf-8d24-eaf791ca2909')\"\n",
              "              title=\"Convert this dataframe to an interactive table.\"\n",
              "              style=\"display:none;\">\n",
              "        \n",
              "  <svg xmlns=\"http://www.w3.org/2000/svg\" height=\"24px\"viewBox=\"0 0 24 24\"\n",
              "       width=\"24px\">\n",
              "    <path d=\"M0 0h24v24H0V0z\" fill=\"none\"/>\n",
              "    <path d=\"M18.56 5.44l.94 2.06.94-2.06 2.06-.94-2.06-.94-.94-2.06-.94 2.06-2.06.94zm-11 1L8.5 8.5l.94-2.06 2.06-.94-2.06-.94L8.5 2.5l-.94 2.06-2.06.94zm10 10l.94 2.06.94-2.06 2.06-.94-2.06-.94-.94-2.06-.94 2.06-2.06.94z\"/><path d=\"M17.41 7.96l-1.37-1.37c-.4-.4-.92-.59-1.43-.59-.52 0-1.04.2-1.43.59L10.3 9.45l-7.72 7.72c-.78.78-.78 2.05 0 2.83L4 21.41c.39.39.9.59 1.41.59.51 0 1.02-.2 1.41-.59l7.78-7.78 2.81-2.81c.8-.78.8-2.07 0-2.86zM5.41 20L4 18.59l7.72-7.72 1.47 1.35L5.41 20z\"/>\n",
              "  </svg>\n",
              "      </button>\n",
              "      \n",
              "  <style>\n",
              "    .colab-df-container {\n",
              "      display:flex;\n",
              "      flex-wrap:wrap;\n",
              "      gap: 12px;\n",
              "    }\n",
              "\n",
              "    .colab-df-convert {\n",
              "      background-color: #E8F0FE;\n",
              "      border: none;\n",
              "      border-radius: 50%;\n",
              "      cursor: pointer;\n",
              "      display: none;\n",
              "      fill: #1967D2;\n",
              "      height: 32px;\n",
              "      padding: 0 0 0 0;\n",
              "      width: 32px;\n",
              "    }\n",
              "\n",
              "    .colab-df-convert:hover {\n",
              "      background-color: #E2EBFA;\n",
              "      box-shadow: 0px 1px 2px rgba(60, 64, 67, 0.3), 0px 1px 3px 1px rgba(60, 64, 67, 0.15);\n",
              "      fill: #174EA6;\n",
              "    }\n",
              "\n",
              "    [theme=dark] .colab-df-convert {\n",
              "      background-color: #3B4455;\n",
              "      fill: #D2E3FC;\n",
              "    }\n",
              "\n",
              "    [theme=dark] .colab-df-convert:hover {\n",
              "      background-color: #434B5C;\n",
              "      box-shadow: 0px 1px 3px 1px rgba(0, 0, 0, 0.15);\n",
              "      filter: drop-shadow(0px 1px 2px rgba(0, 0, 0, 0.3));\n",
              "      fill: #FFFFFF;\n",
              "    }\n",
              "  </style>\n",
              "\n",
              "      <script>\n",
              "        const buttonEl =\n",
              "          document.querySelector('#df-a65516e2-0002-42cf-8d24-eaf791ca2909 button.colab-df-convert');\n",
              "        buttonEl.style.display =\n",
              "          google.colab.kernel.accessAllowed ? 'block' : 'none';\n",
              "\n",
              "        async function convertToInteractive(key) {\n",
              "          const element = document.querySelector('#df-a65516e2-0002-42cf-8d24-eaf791ca2909');\n",
              "          const dataTable =\n",
              "            await google.colab.kernel.invokeFunction('convertToInteractive',\n",
              "                                                     [key], {});\n",
              "          if (!dataTable) return;\n",
              "\n",
              "          const docLinkHtml = 'Like what you see? Visit the ' +\n",
              "            '<a target=\"_blank\" href=https://colab.research.google.com/notebooks/data_table.ipynb>data table notebook</a>'\n",
              "            + ' to learn more about interactive tables.';\n",
              "          element.innerHTML = '';\n",
              "          dataTable['output_type'] = 'display_data';\n",
              "          await google.colab.output.renderOutput(dataTable, element);\n",
              "          const docLink = document.createElement('div');\n",
              "          docLink.innerHTML = docLinkHtml;\n",
              "          element.appendChild(docLink);\n",
              "        }\n",
              "      </script>\n",
              "    </div>\n",
              "  </div>\n",
              "  "
            ]
          },
          "metadata": {},
          "execution_count": 3
        }
      ],
      "source": [
        "boston = pd.DataFrame(boston_data['data'], columns=boston_data['feature_names'])\n",
        "boston.head()"
      ]
    },
    {
      "cell_type": "markdown",
      "metadata": {
        "deletable": false,
        "editable": false,
        "nbgrader": {
          "grade": false,
          "grade_id": "q1_text",
          "locked": true,
          "schema_version": 2,
          "solution": false
        },
        "id": "zzy_lIYLzsKD"
      },
      "source": [
        "### Question 1\n",
        "\n",
        "Let's model this housing price data! Before we can do this, however, we need to split the data into training and test sets. Remember that the response vector (housing prices) lives in the `target` attribute. A random seed is set here so that we can deterministically generate the same splitting in the future if we want to test our result again and find potential bugs.\n",
        "\n",
        "Use the [`train_test_split`](http://scikit-learn.org/stable/modules/generated/sklearn.model_selection.train_test_split.html) function to split out 10% of the data for the test set. Call the resulting splits `X_train`, `X_test`, `Y_train`, `Y_test`.\n",
        "\n",
        "<!--\n",
        "BEGIN QUESTION\n",
        "name: q1\n",
        "-->"
      ]
    },
    {
      "cell_type": "code",
      "execution_count": 29,
      "metadata": {
        "nbgrader": {
          "grade": false,
          "grade_id": "q1_code",
          "locked": false,
          "schema_version": 2,
          "solution": true
        },
        "tags": [
          "student"
        ],
        "id": "ELkFjF0qzsKD",
        "outputId": "4d3700d0-fa91-413c-d762-1e88a5fd8371",
        "colab": {
          "base_uri": "https://localhost:8080/"
        }
      },
      "outputs": [
        {
          "output_type": "execute_result",
          "data": {
            "text/plain": [
              "355    20.6\n",
              "57     31.6\n",
              "165    25.0\n",
              "39     30.8\n",
              "243    23.7\n",
              "132    23.0\n",
              "453    17.8\n",
              "266    30.7\n",
              "157    41.3\n",
              "480    23.0\n",
              "5      28.7\n",
              "348    24.5\n",
              "115    18.3\n",
              "482    25.0\n",
              "160    27.0\n",
              "32     13.2\n",
              "196    33.3\n",
              "346    17.2\n",
              "399     6.3\n",
              "24     15.6\n",
              "279    35.1\n",
              "172    23.1\n",
              "232    41.7\n",
              "476    16.7\n",
              "92     22.9\n",
              "431    14.1\n",
              "242    22.2\n",
              "494    24.5\n",
              "461    17.7\n",
              "287    23.2\n",
              "33     13.1\n",
              "293    23.9\n",
              "469    20.1\n",
              "385     7.2\n",
              "222    27.5\n",
              "13     20.4\n",
              "456    12.7\n",
              "271    25.2\n",
              "6      22.9\n",
              "15     19.9\n",
              "326    23.0\n",
              "314    23.8\n",
              "166    50.0\n",
              "248    24.5\n",
              "227    31.6\n",
              "368    50.0\n",
              "367    23.1\n",
              "217    28.7\n",
              "258    36.0\n",
              "334    20.7\n",
              "301    22.0\n",
              "dtype: float64"
            ]
          },
          "metadata": {},
          "execution_count": 29
        }
      ],
      "source": [
        "from sklearn.model_selection import train_test_split\n",
        "np.random.seed(47)\n",
        "\n",
        "X = boston\n",
        "Y = pd.Series(boston_data['target'])\n",
        "\n",
        "X_train, X_test, Y_train, Y_test = train_test_split(X, Y, test_size=0.1)\n",
        "\n",
        "#X_train\n",
        "#Y_train\n",
        "#X_test\n",
        "Y_test"
      ]
    },
    {
      "cell_type": "code",
      "execution_count": null,
      "metadata": {
        "deletable": false,
        "editable": false,
        "id": "7HfxeJ1dzsKE"
      },
      "outputs": [],
      "source": [
        "grader.check(\"q1\")"
      ]
    },
    {
      "cell_type": "markdown",
      "metadata": {
        "deletable": false,
        "editable": false,
        "nbgrader": {
          "grade": false,
          "grade_id": "q2_text",
          "locked": true,
          "schema_version": 2,
          "solution": false
        },
        "id": "h9M8FTNPzsKE"
      },
      "source": [
        "### Question 2\n",
        "\n",
        "As a warmup, fit a linear model to describe the relationship between the housing price and all available covariates. We've imported `sklearn.linear_model` as `lm`, so you can use that instead of typing out the whole module name. Fill in the cells below to fit a linear regression model to the covariates and create a scatter plot for our predictions vs. the true prices.\n",
        "\n",
        "<!--\n",
        "BEGIN QUESTION\n",
        "name: q2\n",
        "-->"
      ]
    },
    {
      "cell_type": "code",
      "execution_count": 30,
      "metadata": {
        "nbgrader": {
          "grade": false,
          "grade_id": "q2_code",
          "locked": false,
          "schema_version": 2,
          "solution": true
        },
        "tags": [
          "student"
        ],
        "id": "Syp0SliQzsKF",
        "outputId": "c31ac160-0265-4472-cd09-3317004fd41f",
        "colab": {
          "base_uri": "https://localhost:8080/",
          "height": 321
        }
      },
      "outputs": [
        {
          "output_type": "display_data",
          "data": {
            "text/plain": [
              "<Figure size 432x288 with 1 Axes>"
            ],
            "image/png": "[encoded data removed]"
          },
          "metadata": {
            "needs_background": "light"
          }
        }
      ],
      "source": [
        "import sklearn.linear_model as lm\n",
        "\n",
        "linear_model = lm.LinearRegression()\n",
        "\n",
        "# Fit your linear model\n",
        "linear_model.fit(X_train, Y_train)\n",
        "\n",
        "# Predict housing prices on the test set\n",
        "Y_pred = linear_model.predict(X_test)\n",
        "\n",
        "# Plot predicted vs true prices\n",
        "plt.scatter(Y_test, Y_pred, alpha=0.5)\n",
        "plt.xlabel(\"Prices\")\n",
        "plt.ylabel(\"Predicted Prices\")\n",
        "plt.title(\"Prices vs Predicted Prices\");"
      ]
    },
    {
      "cell_type": "markdown",
      "metadata": {
        "nbgrader": {
          "grade": false,
          "grade_id": "cell-655458f2b7de0645",
          "locked": true,
          "schema_version": 2,
          "solution": false
        },
        "id": "tgLkr6gAzsKF"
      },
      "source": [
        "Briefly analyze the scatter plot above. Do you notice any outliers? Write your answer in the cell below."
      ]
    },
    {
      "cell_type": "markdown",
      "metadata": {
        "id": "n9tj6zsizsKF"
      },
      "source": [
        "\n",
        "We happen to notice that there is a one dot where the predicted price was 20 but the actual price is 50."
      ]
    },
    {
      "cell_type": "markdown",
      "metadata": {
        "deletable": false,
        "editable": false,
        "nbgrader": {
          "grade": false,
          "grade_id": "q3_text",
          "locked": true,
          "schema_version": 2,
          "solution": false
        },
        "id": "PJyoephhzsKG"
      },
      "source": [
        "### Question 3\n",
        "\n",
        "As we find from the scatter plot, our model is not perfect. If it were perfect, we would see the identity line (i.e. a line of slope 1). Compute the root mean squared error (RMSE) of the predicted responses: \n",
        "\n",
        "$$\n",
        "\\textbf{RMSE} = \\sqrt{\\frac{1}{n}\\sum_{i=1}^n \\left( y_i - \\hat{y}_i \\right)^2 }\n",
        "$$\n",
        "\n",
        "Fill out the function below and compute the RMSE for our predictions on both the training data `X_train` and the test set `X_test`.  Your implementation **should not** use for loops.\n",
        "\n",
        "<!--\n",
        "BEGIN QUESTION\n",
        "name: q3\n",
        "-->"
      ]
    },
    {
      "cell_type": "code",
      "execution_count": 33,
      "metadata": {
        "nbgrader": {
          "grade": false,
          "grade_id": "q3_code",
          "locked": false,
          "schema_version": 2,
          "solution": true
        },
        "tags": [
          "student"
        ],
        "id": "fVhaEq8xzsKG",
        "outputId": "184c9db8-2c1e-4708-d566-9cf2545aad71",
        "colab": {
          "base_uri": "https://localhost:8080/"
        }
      },
      "outputs": [
        {
          "output_type": "stream",
          "name": "stdout",
          "text": [
            "Y_pred_train: [23.8345002   7.93617099 24.17885545  6.98267226 21.76484911 18.39493902\n",
            " 13.84997953  6.78413094 30.28259823 12.25595032 17.84909621 18.59072633\n",
            " 18.86778686 42.75262754 22.25856677 20.61953508 23.83558535 25.62790388\n",
            " 27.46355664 29.57684626 18.88298168 24.34891641 22.64295244 31.11025244\n",
            " 13.39860911 17.81663718 20.38181477 16.49405765 17.52425881  3.21521081\n",
            " 34.40916428 31.49843376 21.88159461 33.24482854 17.0375061  23.07494462\n",
            " 25.51697656 22.09350415 20.30918515 17.4893897  20.45460502 13.85549525\n",
            " 17.4756068  33.2531442  18.64462843 41.05280857 28.73252367  6.39679547\n",
            " 22.36562953 25.46425492 15.35061496 21.22762299 15.76970245 15.18479256\n",
            " 34.49923687 20.37664624 16.77569479 12.76033519 18.16109904 12.51015167\n",
            " 20.8242705  33.11728885 21.20824563 14.51478115 17.60581356 19.61294292\n",
            " 28.97727729 37.81038992 19.71909599 13.48706303 20.49688075 27.60810331\n",
            " 24.48931219  9.15781698 19.63749832 33.33553017 18.57237703 30.74575665\n",
            " 18.82573538 14.28786935 13.26535289 13.56591147 21.52099848 15.06987265\n",
            " 33.52757165 18.81470035 20.49160061 18.6525489  13.25187996 38.6204542\n",
            " 21.45440478 18.99715903 27.63181262 17.79575023 23.74969691 17.62362197\n",
            " 18.5495578  30.47299305 34.32219099 23.30272939 37.79201396 22.0066041\n",
            "  9.85492644 31.64689027 20.92905932 35.130804   13.99784485 27.23696573\n",
            " 10.39051104 17.86597494 20.96118378 19.91747993  9.14430837 25.07311343\n",
            " 31.8071248  36.43228615 22.19669614 28.33689362 16.55320123 32.615491\n",
            " 21.81264333 16.37890226 20.86159139 23.70846911 20.84981296 14.74287438\n",
            " 26.59809888 20.14325747 26.14097696 22.17796294 35.06163241 25.53372722\n",
            " 22.50567706 23.63288795 33.80407773 21.28046116 28.49280142 -3.98443312\n",
            " 23.25721713 13.95912822 25.5782177  17.47981358 30.02793274 21.73052584\n",
            " 19.86432897 24.6990691  25.10766418 17.84145704 25.78380096 43.96012875\n",
            " 36.36366627 22.02626692 18.09192473 12.4106957   5.00364889 27.49057078\n",
            " 22.49520722 25.52453996 13.74419921 27.01641537 14.25477736 34.65212906\n",
            " 17.10276279 19.43381512 18.1308851  23.50914873 22.00081847 22.93558009\n",
            " 17.06130198 25.87276242 27.03057792 37.25096906 18.3594918  17.29948741\n",
            " 15.65454728 12.97799959 20.33605241 21.793022   29.37843019 25.42236587\n",
            " 24.61976291 19.82656826 10.7361853  30.606896   23.77137378 11.47661342\n",
            " 25.37077663 19.00729438 20.2837856  31.88573964 13.06527082 13.008423\n",
            " 12.59533786 20.06811144 21.21225545  1.70000414 11.19028134 29.45963549\n",
            "  9.84011631 18.60217698 21.35986788 17.67864678 17.98241635 28.53343167\n",
            " 14.07327499 24.73981803 30.71047765 20.07435412 12.62016705 32.58468668\n",
            " 16.13565104 16.67986437 15.56005379 18.09461851  6.88628499 22.94120861\n",
            " 15.0541149  13.78536785 20.53333482 14.3735542  24.38482229 15.47632008\n",
            " 18.31947855 21.43918894 28.64484222 32.4694998  25.9850319  22.89620334\n",
            " 23.6186417  30.48487689 20.30670334 15.28449889 15.6446094  25.82864942\n",
            " 13.22543615 23.25320529 19.67781202 26.57304386 44.0967028  20.07523262\n",
            " 23.88741994 15.74834228 31.62376222 20.88642446 20.62580578 35.8090093\n",
            " 34.77441222 36.08478085 26.31505828 21.05758522 31.2077696  17.46339187\n",
            " 16.4855617  26.5505347  33.16547593 25.44151868 18.86147281 13.71092858\n",
            "  6.23303232 23.08997474 22.48397333 13.94883612 24.53313119 33.46449524\n",
            " 24.88615898 27.77235436 18.24543353 21.64128776 39.04960625 15.88701746\n",
            " 20.51712918 22.8453432  27.86982169 18.90235431 35.39537445 20.45854649\n",
            " 22.75965956 32.50928577 17.1440418  16.85128043 19.04562963 41.56558682\n",
            " 30.15838009 22.23586449 31.98307862 38.75836247 27.57301591 20.98637047\n",
            " 22.48619232 26.94674558 28.99874932 17.06676045 35.20867059  6.00691099\n",
            " 23.1212524  19.2530148  22.11622289 24.77624409  8.11626756 17.38717773\n",
            " 18.00870464 22.96594218 41.87721121 20.67792075 30.81234211 19.17291985\n",
            "  3.89720248 15.6430809  16.55966916 25.08439661  7.28680963 19.35492452\n",
            " 36.48454374 24.82253437 25.04259587 27.56546184 37.54595248 28.88916597\n",
            " 21.77960036 21.32266194 19.63190286 15.62881663 32.22661799 24.54355483\n",
            " 16.98708562 31.15308579 17.70535591 40.3396922  14.1167334  23.29311798\n",
            " 28.38209491 28.4952888   1.3918892  19.96730126 20.25472669 21.97933719\n",
            " 24.8165371  11.79501627 28.34163726 20.69534249 28.66024058 19.65649852\n",
            " 16.72624603 22.64233632 36.62758127 11.00619804 18.64731769 23.4841812\n",
            " 20.18747081 17.22812299 24.15656901 16.13559965 24.93333667 19.37337353\n",
            " 32.41828498 20.03594378 24.68616257 27.48700484 39.46177659 19.60562107\n",
            " 27.08730967 24.57189349 20.06833433 35.70693741 31.15056687 14.95273726\n",
            " 16.65901425  8.05936718 19.22363828 12.66456626 24.69598558 14.67072267\n",
            " 22.5609699  30.78960285 13.39465188 18.07260557 19.07882171 11.70440987\n",
            " 22.08461542  6.86415127 15.20576188 24.49300592 14.69329032  9.27917782\n",
            "  5.42889717 30.44924081 20.20091902 12.51924535 27.8373678  21.1015223\n",
            " 40.5344041  32.56197206 26.8662261  10.41839965 30.35278918 36.40856152\n",
            " 22.45136232 25.54356779 41.53364941 25.00420502 22.99983153 12.93206138\n",
            " 21.80790364 24.60461396 13.2932216  22.19053886 12.45636706 17.29100364\n",
            " 45.98588065 35.95337276 22.15541091 13.41381865 15.25009548 17.62309701\n",
            " 19.17481798 25.34634693 19.47540968 42.31969555 28.13104735 17.45354041\n",
            " 29.2388025  28.67052039 25.41297889 17.48065309 33.42889216 33.48206311\n",
            " 24.42931048 10.20810294 24.19890899 24.56900507 37.65677628 25.98675247\n",
            " 23.48940023 14.24525815 17.15831576 25.51753293 30.20138635 33.78548753\n",
            " 25.32993485 21.58507708 26.2709302  20.60562277 28.52675968 21.99225802\n",
            " 34.77330517 24.18523133 20.8346367  13.84762938 20.03307184 32.84270584\n",
            " 24.55535925 35.73029553 19.71454901 16.6983497  17.2739807 ]\n",
            "\n",
            "\n",
            "Y_pred_test: [16.3360699  32.95648583 24.20185924 31.39211778 27.62992485 19.40304349\n",
            " 23.1980611  31.886725   32.2217664  23.06117089 24.78743135 27.70760433\n",
            " 20.0790852  28.14707618 31.71989611  9.9598088  36.41790182 14.79256519\n",
            " 12.23924027 15.48748199 35.45513196 22.36924297 38.39954354 20.8153309\n",
            " 28.73893973 18.8544523  24.26618369 20.91636866 20.05972932 26.951118\n",
            " 14.08066926 26.0563316  18.38814101  8.78276181 32.59814299 18.98569635\n",
            " 12.23133762 27.39613827 22.86066085 18.74960756 23.6953574  25.04478085\n",
            " 36.86156785 21.37546443 32.14768229 20.91439245  7.90053013 28.04467345\n",
            " 36.2913483  21.55624386 29.25493741]\n",
            "\n",
            "\n",
            "Training RMSE: 4.56230596093393\n",
            "Test RMSE: 5.887073477757788\n"
          ]
        }
      ],
      "source": [
        "def rmse(actual_y, predicted_y):\n",
        "    \"\"\"\n",
        "    Args:\n",
        "        predicted_y: an array of the prediction from the model\n",
        "        actual_y: an array of the groudtruth label\n",
        "        \n",
        "    Returns:\n",
        "        The root mean square error between the prediction and the groudtruth\n",
        "    \"\"\"\n",
        "    return np.sqrt((1/actual_y.size) * np.sum((actual_y - predicted_y)**2))\n",
        "\n",
        "\n",
        "Y_pred_train = linear_model.predict(X_train)\n",
        "Y_pred_test = linear_model.predict(X_test)\n",
        "\n",
        "train_error = rmse(Y_train, Y_pred_train)\n",
        "test_error = rmse(Y_test, Y_pred_test)\n",
        "\n",
        "print(\"Y_pred_train:\", Y_pred_train)\n",
        "print(\"\\n\")\n",
        "print(\"Y_pred_test:\", Y_pred_test)\n",
        "print(\"\\n\")\n",
        "\n",
        "print(\"Training RMSE:\", train_error)\n",
        "print(\"Test RMSE:\", test_error)"
      ]
    },
    {
      "cell_type": "code",
      "execution_count": null,
      "metadata": {
        "deletable": false,
        "editable": false,
        "id": "Plg3XqkZzsKG"
      },
      "outputs": [],
      "source": [
        "grader.check(\"q3\")"
      ]
    },
    {
      "cell_type": "markdown",
      "metadata": {
        "nbgrader": {
          "grade": false,
          "grade_id": "cell-0f349e0d791db2f2",
          "locked": true,
          "schema_version": 2,
          "solution": false
        },
        "id": "AgzHbpE8zsKG"
      },
      "source": [
        "Is your training error lower than the test error? If so, why could this be happening? Answer in the cell below."
      ]
    },
    {
      "cell_type": "markdown",
      "metadata": {
        "id": "ZUG5MQ7ozsKH"
      },
      "source": [
        "Yes, because the train the model into training data."
      ]
    },
    {
      "cell_type": "markdown",
      "metadata": {
        "id": "P0V6DsPszsKH"
      },
      "source": [
        "## Overfitting"
      ]
    },
    {
      "cell_type": "markdown",
      "metadata": {
        "id": "1UuKwI8mzsKH"
      },
      "source": [
        "Sometimes we can get even higher accuracy by adding more features. For example, the code below adds the square, square root, and hyperbolic tangent of every feature to the design matrix. We've chosen these bizarre features specifically to highlight overfitting."
      ]
    },
    {
      "cell_type": "code",
      "execution_count": 21,
      "metadata": {
        "id": "zzhKAsBszsKH",
        "outputId": "a0eba8db-63c5-4aaf-ee48-6dc398cfe8b6",
        "colab": {
          "base_uri": "https://localhost:8080/",
          "height": 236
        }
      },
      "outputs": [
        {
          "output_type": "execute_result",
          "data": {
            "text/plain": [
              "      CRIM    ZN  INDUS  CHAS    NOX     RM   AGE     DIS  RAD    TAX  ...  \\\n",
              "0  0.00632  18.0   2.31   0.0  0.538  6.575  65.2  4.0900  1.0  296.0  ...   \n",
              "1  0.02731   0.0   7.07   0.0  0.469  6.421  78.9  4.9671  2.0  242.0  ...   \n",
              "2  0.02729   0.0   7.07   0.0  0.469  7.185  61.1  4.9671  2.0  242.0  ...   \n",
              "3  0.03237   0.0   2.18   0.0  0.458  6.998  45.8  6.0622  3.0  222.0  ...   \n",
              "4  0.06905   0.0   2.18   0.0  0.458  7.147  54.2  6.0622  3.0  222.0  ...   \n",
              "\n",
              "   tanhTAX  PTRATIO^2  sqrtPTRATIO  tanhPTRATIO          B^2      sqrtB  \\\n",
              "0      1.0     234.09     3.911521          1.0  157529.6100  19.922349   \n",
              "1      1.0     316.84     4.219005          1.0  157529.6100  19.922349   \n",
              "2      1.0     316.84     4.219005          1.0  154315.4089  19.819939   \n",
              "3      1.0     349.69     4.324350          1.0  155732.8369  19.865296   \n",
              "4      1.0     349.69     4.324350          1.0  157529.6100  19.922349   \n",
              "\n",
              "   tanhB  LSTAT^2  sqrtLSTAT  tanhLSTAT  \n",
              "0    1.0  24.8004   2.231591   0.999905  \n",
              "1    1.0  83.5396   3.023243   1.000000  \n",
              "2    1.0  16.2409   2.007486   0.999368  \n",
              "3    1.0   8.6436   1.714643   0.994426  \n",
              "4    1.0  28.4089   2.308679   0.999953  \n",
              "\n",
              "[5 rows x 52 columns]"
            ],
            "text/html": [
              "\n",
              "  <div id=\"df-38ae79dc-3639-42f5-9a20-bf66e778abce\">\n",
              "    <div class=\"colab-df-container\">\n",
              "      <div>\n",
              "<style scoped>\n",
              "    .dataframe tbody tr th:only-of-type {\n",
              "        vertical-align: middle;\n",
              "    }\n",
              "\n",
              "    .dataframe tbody tr th {\n",
              "        vertical-align: top;\n",
              "    }\n",
              "\n",
              "    .dataframe thead th {\n",
              "        text-align: right;\n",
              "    }\n",
              "</style>\n",
              "<table border=\"1\" class=\"dataframe\">\n",
              "  <thead>\n",
              "    <tr style=\"text-align: right;\">\n",
              "      <th></th>\n",
              "      <th>CRIM</th>\n",
              "      <th>ZN</th>\n",
              "      <th>INDUS</th>\n",
              "      <th>CHAS</th>\n",
              "      <th>NOX</th>\n",
              "      <th>RM</th>\n",
              "      <th>AGE</th>\n",
              "      <th>DIS</th>\n",
              "      <th>RAD</th>\n",
              "      <th>TAX</th>\n",
              "      <th>...</th>\n",
              "      <th>tanhTAX</th>\n",
              "      <th>PTRATIO^2</th>\n",
              "      <th>sqrtPTRATIO</th>\n",
              "      <th>tanhPTRATIO</th>\n",
              "      <th>B^2</th>\n",
              "      <th>sqrtB</th>\n",
              "      <th>tanhB</th>\n",
              "      <th>LSTAT^2</th>\n",
              "      <th>sqrtLSTAT</th>\n",
              "      <th>tanhLSTAT</th>\n",
              "    </tr>\n",
              "  </thead>\n",
              "  <tbody>\n",
              "    <tr>\n",
              "      <th>0</th>\n",
              "      <td>0.00632</td>\n",
              "      <td>18.0</td>\n",
              "      <td>2.31</td>\n",
              "      <td>0.0</td>\n",
              "      <td>0.538</td>\n",
              "      <td>6.575</td>\n",
              "      <td>65.2</td>\n",
              "      <td>4.0900</td>\n",
              "      <td>1.0</td>\n",
              "      <td>296.0</td>\n",
              "      <td>...</td>\n",
              "      <td>1.0</td>\n",
              "      <td>234.09</td>\n",
              "      <td>3.911521</td>\n",
              "      <td>1.0</td>\n",
              "      <td>157529.6100</td>\n",
              "      <td>19.922349</td>\n",
              "      <td>1.0</td>\n",
              "      <td>24.8004</td>\n",
              "      <td>2.231591</td>\n",
              "      <td>0.999905</td>\n",
              "    </tr>\n",
              "    <tr>\n",
              "      <th>1</th>\n",
              "      <td>0.02731</td>\n",
              "      <td>0.0</td>\n",
              "      <td>7.07</td>\n",
              "      <td>0.0</td>\n",
              "      <td>0.469</td>\n",
              "      <td>6.421</td>\n",
              "      <td>78.9</td>\n",
              "      <td>4.9671</td>\n",
              "      <td>2.0</td>\n",
              "      <td>242.0</td>\n",
              "      <td>...</td>\n",
              "      <td>1.0</td>\n",
              "      <td>316.84</td>\n",
              "      <td>4.219005</td>\n",
              "      <td>1.0</td>\n",
              "      <td>157529.6100</td>\n",
              "      <td>19.922349</td>\n",
              "      <td>1.0</td>\n",
              "      <td>83.5396</td>\n",
              "      <td>3.023243</td>\n",
              "      <td>1.000000</td>\n",
              "    </tr>\n",
              "    <tr>\n",
              "      <th>2</th>\n",
              "      <td>0.02729</td>\n",
              "      <td>0.0</td>\n",
              "      <td>7.07</td>\n",
              "      <td>0.0</td>\n",
              "      <td>0.469</td>\n",
              "      <td>7.185</td>\n",
              "      <td>61.1</td>\n",
              "      <td>4.9671</td>\n",
              "      <td>2.0</td>\n",
              "      <td>242.0</td>\n",
              "      <td>...</td>\n",
              "      <td>1.0</td>\n",
              "      <td>316.84</td>\n",
              "      <td>4.219005</td>\n",
              "      <td>1.0</td>\n",
              "      <td>154315.4089</td>\n",
              "      <td>19.819939</td>\n",
              "      <td>1.0</td>\n",
              "      <td>16.2409</td>\n",
              "      <td>2.007486</td>\n",
              "      <td>0.999368</td>\n",
              "    </tr>\n",
              "    <tr>\n",
              "      <th>3</th>\n",
              "      <td>0.03237</td>\n",
              "      <td>0.0</td>\n",
              "      <td>2.18</td>\n",
              "      <td>0.0</td>\n",
              "      <td>0.458</td>\n",
              "      <td>6.998</td>\n",
              "      <td>45.8</td>\n",
              "      <td>6.0622</td>\n",
              "      <td>3.0</td>\n",
              "      <td>222.0</td>\n",
              "      <td>...</td>\n",
              "      <td>1.0</td>\n",
              "      <td>349.69</td>\n",
              "      <td>4.324350</td>\n",
              "      <td>1.0</td>\n",
              "      <td>155732.8369</td>\n",
              "      <td>19.865296</td>\n",
              "      <td>1.0</td>\n",
              "      <td>8.6436</td>\n",
              "      <td>1.714643</td>\n",
              "      <td>0.994426</td>\n",
              "    </tr>\n",
              "    <tr>\n",
              "      <th>4</th>\n",
              "      <td>0.06905</td>\n",
              "      <td>0.0</td>\n",
              "      <td>2.18</td>\n",
              "      <td>0.0</td>\n",
              "      <td>0.458</td>\n",
              "      <td>7.147</td>\n",
              "      <td>54.2</td>\n",
              "      <td>6.0622</td>\n",
              "      <td>3.0</td>\n",
              "      <td>222.0</td>\n",
              "      <td>...</td>\n",
              "      <td>1.0</td>\n",
              "      <td>349.69</td>\n",
              "      <td>4.324350</td>\n",
              "      <td>1.0</td>\n",
              "      <td>157529.6100</td>\n",
              "      <td>19.922349</td>\n",
              "      <td>1.0</td>\n",
              "      <td>28.4089</td>\n",
              "      <td>2.308679</td>\n",
              "      <td>0.999953</td>\n",
              "    </tr>\n",
              "  </tbody>\n",
              "</table>\n",
              "<p>5 rows × 52 columns</p>\n",
              "</div>\n",
              "      <button class=\"colab-df-convert\" onclick=\"convertToInteractive('df-38ae79dc-3639-42f5-9a20-bf66e778abce')\"\n",
              "              title=\"Convert this dataframe to an interactive table.\"\n",
              "              style=\"display:none;\">\n",
              "        \n",
              "  <svg xmlns=\"http://www.w3.org/2000/svg\" height=\"24px\"viewBox=\"0 0 24 24\"\n",
              "       width=\"24px\">\n",
              "    <path d=\"M0 0h24v24H0V0z\" fill=\"none\"/>\n",
              "    <path d=\"M18.56 5.44l.94 2.06.94-2.06 2.06-.94-2.06-.94-.94-2.06-.94 2.06-2.06.94zm-11 1L8.5 8.5l.94-2.06 2.06-.94-2.06-.94L8.5 2.5l-.94 2.06-2.06.94zm10 10l.94 2.06.94-2.06 2.06-.94-2.06-.94-.94-2.06-.94 2.06-2.06.94z\"/><path d=\"M17.41 7.96l-1.37-1.37c-.4-.4-.92-.59-1.43-.59-.52 0-1.04.2-1.43.59L10.3 9.45l-7.72 7.72c-.78.78-.78 2.05 0 2.83L4 21.41c.39.39.9.59 1.41.59.51 0 1.02-.2 1.41-.59l7.78-7.78 2.81-2.81c.8-.78.8-2.07 0-2.86zM5.41 20L4 18.59l7.72-7.72 1.47 1.35L5.41 20z\"/>\n",
              "  </svg>\n",
              "      </button>\n",
              "      \n",
              "  <style>\n",
              "    .colab-df-container {\n",
              "      display:flex;\n",
              "      flex-wrap:wrap;\n",
              "      gap: 12px;\n",
              "    }\n",
              "\n",
              "    .colab-df-convert {\n",
              "      background-color: #E8F0FE;\n",
              "      border: none;\n",
              "      border-radius: 50%;\n",
              "      cursor: pointer;\n",
              "      display: none;\n",
              "      fill: #1967D2;\n",
              "      height: 32px;\n",
              "      padding: 0 0 0 0;\n",
              "      width: 32px;\n",
              "    }\n",
              "\n",
              "    .colab-df-convert:hover {\n",
              "      background-color: #E2EBFA;\n",
              "      box-shadow: 0px 1px 2px rgba(60, 64, 67, 0.3), 0px 1px 3px 1px rgba(60, 64, 67, 0.15);\n",
              "      fill: #174EA6;\n",
              "    }\n",
              "\n",
              "    [theme=dark] .colab-df-convert {\n",
              "      background-color: #3B4455;\n",
              "      fill: #D2E3FC;\n",
              "    }\n",
              "\n",
              "    [theme=dark] .colab-df-convert:hover {\n",
              "      background-color: #434B5C;\n",
              "      box-shadow: 0px 1px 3px 1px rgba(0, 0, 0, 0.15);\n",
              "      filter: drop-shadow(0px 1px 2px rgba(0, 0, 0, 0.3));\n",
              "      fill: #FFFFFF;\n",
              "    }\n",
              "  </style>\n",
              "\n",
              "      <script>\n",
              "        const buttonEl =\n",
              "          document.querySelector('#df-38ae79dc-3639-42f5-9a20-bf66e778abce button.colab-df-convert');\n",
              "        buttonEl.style.display =\n",
              "          google.colab.kernel.accessAllowed ? 'block' : 'none';\n",
              "\n",
              "        async function convertToInteractive(key) {\n",
              "          const element = document.querySelector('#df-38ae79dc-3639-42f5-9a20-bf66e778abce');\n",
              "          const dataTable =\n",
              "            await google.colab.kernel.invokeFunction('convertToInteractive',\n",
              "                                                     [key], {});\n",
              "          if (!dataTable) return;\n",
              "\n",
              "          const docLinkHtml = 'Like what you see? Visit the ' +\n",
              "            '<a target=\"_blank\" href=https://colab.research.google.com/notebooks/data_table.ipynb>data table notebook</a>'\n",
              "            + ' to learn more about interactive tables.';\n",
              "          element.innerHTML = '';\n",
              "          dataTable['output_type'] = 'display_data';\n",
              "          await google.colab.output.renderOutput(dataTable, element);\n",
              "          const docLink = document.createElement('div');\n",
              "          docLink.innerHTML = docLinkHtml;\n",
              "          element.appendChild(docLink);\n",
              "        }\n",
              "      </script>\n",
              "    </div>\n",
              "  </div>\n",
              "  "
            ]
          },
          "metadata": {},
          "execution_count": 21
        }
      ],
      "source": [
        "boston_with_extra_features = boston.copy()\n",
        "for feature_name in boston.columns:\n",
        "    boston_with_extra_features[feature_name + \"^2\"] = boston_with_extra_features[feature_name] ** 2\n",
        "    boston_with_extra_features[\"sqrt\" + feature_name] = np.sqrt(boston_with_extra_features[feature_name])\n",
        "    boston_with_extra_features[\"tanh\" + feature_name] = np.tanh(boston_with_extra_features[feature_name])\n",
        "    \n",
        "boston_with_extra_features.head(5)"
      ]
    },
    {
      "cell_type": "markdown",
      "metadata": {
        "id": "bH2RnbWfzsKI"
      },
      "source": [
        "We split up our data again and refit the model. From this cell forward, we append `2` to the variable names `X_Train, X_test, Y_train, Y_test, train_error, test_error` in order to maintain our original data. **Make sure you use these variable names from this cell forward**."
      ]
    },
    {
      "cell_type": "code",
      "execution_count": 22,
      "metadata": {
        "id": "NCIvuDkuzsKI"
      },
      "outputs": [],
      "source": [
        "np.random.seed(32)\n",
        "X = boston_with_extra_features\n",
        "X_train2, X_test2, Y_train2, Y_test2 = train_test_split(X, Y, test_size = 0.10)\n",
        "linear_model.fit(X_train2, Y_train2);"
      ]
    },
    {
      "cell_type": "markdown",
      "metadata": {
        "id": "y2R4GoFezsKI"
      },
      "source": [
        "Looking at our training and test RMSE, we see that they are lower than you computed earlier. This strange model is seemingly better, even though it includes seemingly useless features like the hyperbolic tangent of the average number of rooms per dwelling."
      ]
    },
    {
      "cell_type": "code",
      "execution_count": 23,
      "metadata": {
        "scrolled": true,
        "id": "MAwDEnagzsKI",
        "outputId": "f28e28c8-088c-48bc-eb64-7dac53ed43cc",
        "colab": {
          "base_uri": "https://localhost:8080/"
        }
      },
      "outputs": [
        {
          "output_type": "stream",
          "name": "stdout",
          "text": [
            "Training RMSE: 3.2698705135205843\n",
            "Test RMSE: 5.1774348909532035\n"
          ]
        }
      ],
      "source": [
        "train_error2 = rmse(Y_train2, linear_model.predict(X_train2)) \n",
        "test_error2 = rmse(Y_test2, linear_model.predict(X_test2))\n",
        "\n",
        "print(\"Training RMSE:\", train_error2)\n",
        "print(\"Test RMSE:\", test_error2)"
      ]
    },
    {
      "cell_type": "markdown",
      "metadata": {
        "id": "UB_6z5XbzsKI"
      },
      "source": [
        "However, if we plot the training and test error as we add each additional feature, we see that our model is beginning to overfit. That is, even though our training error continues to decrease (since our model bias is decreasing), our test error starts increasing since the lessons learned from these last 20+ features aren't actually useful when applied to unseen data. That is, our model isn't generalizable."
      ]
    },
    {
      "cell_type": "code",
      "execution_count": 24,
      "metadata": {
        "id": "UF_Ucft-zsKI",
        "outputId": "1c363190-77ef-4bca-d6c4-71dddb0e044d",
        "colab": {
          "base_uri": "https://localhost:8080/",
          "height": 430
        }
      },
      "outputs": [
        {
          "output_type": "display_data",
          "data": {
            "text/plain": [
              "<Figure size 720x432 with 1 Axes>"
            ],
            "image/png": "[encoded data removed]"
          },
          "metadata": {
            "needs_background": "light"
          }
        }
      ],
      "source": [
        "train_error_vs_N = []\n",
        "test_error_vs_N = []\n",
        "\n",
        "range_of_num_features = range(1, X_train2.shape[1] + 1)\n",
        "\n",
        "for N in range_of_num_features:\n",
        "    X_train_first_N_features = X_train2.iloc[:, :N]    \n",
        "    \n",
        "    linear_model.fit(X_train_first_N_features, Y_train2)\n",
        "    train_error_overfit = rmse(Y_train2, linear_model.predict(X_train_first_N_features))\n",
        "    train_error_vs_N.append(train_error_overfit)\n",
        "    \n",
        "    X_test_first_N_features = X_test2.iloc[:, :N]\n",
        "    test_error_overfit = rmse(Y_test2, linear_model.predict(X_test_first_N_features))    \n",
        "    test_error_vs_N.append(test_error_overfit)\n",
        "    \n",
        "plt.figure(figsize=(10, 6))\n",
        "plt.plot(range_of_num_features, train_error_vs_N)\n",
        "plt.plot(range_of_num_features, test_error_vs_N)\n",
        "plt.legend([\"training\", \"test error\"])\n",
        "plt.title('RMSE vs Number of Features')\n",
        "plt.xlabel(\"number of features\")\n",
        "plt.ylabel(\"RMSE\");"
      ]
    },
    {
      "cell_type": "markdown",
      "metadata": {
        "nbgrader": {
          "grade": false,
          "grade_id": "cv",
          "locked": true,
          "schema_version": 2,
          "solution": false
        },
        "id": "dVgAXMpMzsKJ"
      },
      "source": [
        "## Cross Validation\n",
        "\n",
        "To figure out which feature set to use, we can use cross validation. Since there are 52 features, in theory, we could consider $2^{52}$ different models. For the sake of simplicity, we'll consider only 52 models, where the $i$th model includes features 1 through $i$. For example, the 3rd model would include the first 3 features only (\"CRIM\", \"ZN\", and \"INDUS\").\n",
        "\n",
        "While using fewer features may increase our training error, it may also decrease our test error and help prevent overfitting to the training set.\n",
        "\n",
        "You might ask, why don't we just use the plot above to find $p$, the optimal number of features? In real life, you'd NEVER generate this plot. Using the test set more than once for any reason is not a good idea. Otherwise, you're effectively using the test data to fit your hyperparameters (in this case, N, the number of features).\n",
        "\n",
        "In the next section, we'll instead use $k$-fold cross-validation to select the best subset of features for our model. Recall the approach looks something like:\n",
        "\n",
        "<img src=\"https://github.com/TheEvergreenStateCollege/week-2-Monado-Guy/blob/main/lab/lab10/cv.png?raw=1\" width=500px>\n",
        "\n",
        "**Warning**: The above questions are to illustrate some general differences we can see between train set and test set and the phenomenon on overfitting, however, we **should not use the test set at all when selecting models**. Instead, we should use cross-validation to select the feature set. When selecting features or choosing hyper-parameters, we can split the training set further into multiple train and validation sets (each split is called a \"fold\", hence k-fold cross validation). We will use the average validation error across all k folds to help select the optimal hyper-parameters and feature set.\n",
        "\n",
        "**Furthermore,** selecting the first $N$ features, in general, is not a good way to select features, since the order of our columns is relatively meaningless. We present this as an example for you here to illustrate the concept of cross validation. In future assignments, we will look at more robust methods for feature selection."
      ]
    },
    {
      "cell_type": "markdown",
      "metadata": {
        "deletable": false,
        "editable": false,
        "nbgrader": {
          "grade": false,
          "grade_id": "q4_text",
          "locked": true,
          "schema_version": 2,
          "solution": false
        },
        "id": "SsDE0mpzzsKJ"
      },
      "source": [
        "### Question 4\n",
        "\n",
        "Scikit-learn has built-in support for cross validation.  However, to better understand how cross validation works complete the following function which cross validates a given model.\n",
        "\n",
        "1. Use the [`KFold.split`](http://scikit-learn.org/stable/modules/generated/sklearn.model_selection.KFold.html) function to get 4 splits on the training data. Note that `split` returns the indices of the data for that split.\n",
        "2. For **each** split:\n",
        "    1. Select out the training and validation rows and columns based on the split indices and features.\n",
        "    2. Compute the RMSE on the validation split.\n",
        "    3. Return the average error across all cross validation splits.\n",
        "\n",
        "<!--\n",
        "BEGIN QUESTION\n",
        "name: q4\n",
        "-->"
      ]
    },
    {
      "cell_type": "code",
      "execution_count": 35,
      "metadata": {
        "nbgrader": {
          "grade": false,
          "grade_id": "q4_code",
          "locked": false,
          "schema_version": 2,
          "solution": true
        },
        "tags": [
          "student"
        ],
        "id": "_Hj3P9YAzsKK",
        "outputId": "1a8d9b9e-4c6e-4588-f505-e2ddaa453c4d",
        "colab": {
          "base_uri": "https://localhost:8080/",
          "height": 363
        }
      },
      "outputs": [
        {
          "output_type": "error",
          "ename": "KeyError",
          "evalue": "ignored",
          "traceback": [
            "\u001b[0;31m---------------------------------------------------------------------------\u001b[0m",
            "\u001b[0;31mKeyError\u001b[0m                                  Traceback (most recent call last)",
            "\u001b[0;32m<ipython-input-35-b969c1d6ae26>\u001b[0m in \u001b[0;36m<module>\u001b[0;34m()\u001b[0m\n\u001b[1;32m     37\u001b[0m     \u001b[0;32mreturn\u001b[0m \u001b[0mnp\u001b[0m\u001b[0;34m.\u001b[0m\u001b[0mmean\u001b[0m\u001b[0;34m(\u001b[0m\u001b[0mvalidation_errors\u001b[0m\u001b[0;34m)\u001b[0m\u001b[0;34m\u001b[0m\u001b[0;34m\u001b[0m\u001b[0m\n\u001b[1;32m     38\u001b[0m \u001b[0;34m\u001b[0m\u001b[0m\n\u001b[0;32m---> 39\u001b[0;31m \u001b[0mcompute_CV_error\u001b[0m\u001b[0;34m(\u001b[0m\u001b[0mlinear_model\u001b[0m\u001b[0;34m,\u001b[0m \u001b[0mX_train\u001b[0m\u001b[0;34m,\u001b[0m \u001b[0mY_train\u001b[0m\u001b[0;34m)\u001b[0m\u001b[0;34m\u001b[0m\u001b[0;34m\u001b[0m\u001b[0m\n\u001b[0m",
            "\u001b[0;32m<ipython-input-35-b969c1d6ae26>\u001b[0m in \u001b[0;36mcompute_CV_error\u001b[0;34m(model, X_train, Y_train)\u001b[0m\n\u001b[1;32m     23\u001b[0m     \u001b[0;32mfor\u001b[0m \u001b[0mtrain_idx\u001b[0m\u001b[0;34m,\u001b[0m \u001b[0mvalid_idx\u001b[0m \u001b[0;32min\u001b[0m \u001b[0mkf\u001b[0m\u001b[0;34m.\u001b[0m\u001b[0msplit\u001b[0m\u001b[0;34m(\u001b[0m\u001b[0mX_train\u001b[0m\u001b[0;34m)\u001b[0m\u001b[0;34m:\u001b[0m\u001b[0;34m\u001b[0m\u001b[0;34m\u001b[0m\u001b[0m\n\u001b[1;32m     24\u001b[0m         \u001b[0;31m# split the data\u001b[0m\u001b[0;34m\u001b[0m\u001b[0;34m\u001b[0m\u001b[0;34m\u001b[0m\u001b[0m\n\u001b[0;32m---> 25\u001b[0;31m         \u001b[0msplit_X_train\u001b[0m\u001b[0;34m,\u001b[0m \u001b[0msplit_X_valid\u001b[0m \u001b[0;34m=\u001b[0m \u001b[0mX_train\u001b[0m\u001b[0;34m[\u001b[0m\u001b[0mtrain_idx\u001b[0m\u001b[0;34m]\u001b[0m\u001b[0;34m,\u001b[0m \u001b[0mX_train\u001b[0m\u001b[0;34m[\u001b[0m\u001b[0mvalid_idx\u001b[0m\u001b[0;34m]\u001b[0m\u001b[0;34m\u001b[0m\u001b[0;34m\u001b[0m\u001b[0m\n\u001b[0m\u001b[1;32m     26\u001b[0m         \u001b[0msplit_Y_train\u001b[0m\u001b[0;34m,\u001b[0m \u001b[0msplit_Y_valid\u001b[0m \u001b[0;34m=\u001b[0m \u001b[0mY_train\u001b[0m\u001b[0;34m[\u001b[0m\u001b[0mtrain_idx\u001b[0m\u001b[0;34m]\u001b[0m\u001b[0;34m,\u001b[0m \u001b[0mY_train\u001b[0m\u001b[0;34m[\u001b[0m\u001b[0mvalid_idx\u001b[0m\u001b[0;34m]\u001b[0m\u001b[0;34m\u001b[0m\u001b[0;34m\u001b[0m\u001b[0m\n\u001b[1;32m     27\u001b[0m \u001b[0;34m\u001b[0m\u001b[0m\n",
            "\u001b[0;32m/usr/local/lib/python3.7/dist-packages/pandas/core/frame.py\u001b[0m in \u001b[0;36m__getitem__\u001b[0;34m(self, key)\u001b[0m\n\u001b[1;32m   3462\u001b[0m             \u001b[0;32mif\u001b[0m \u001b[0mis_iterator\u001b[0m\u001b[0;34m(\u001b[0m\u001b[0mkey\u001b[0m\u001b[0;34m)\u001b[0m\u001b[0;34m:\u001b[0m\u001b[0;34m\u001b[0m\u001b[0;34m\u001b[0m\u001b[0m\n\u001b[1;32m   3463\u001b[0m                 \u001b[0mkey\u001b[0m \u001b[0;34m=\u001b[0m \u001b[0mlist\u001b[0m\u001b[0;34m(\u001b[0m\u001b[0mkey\u001b[0m\u001b[0;34m)\u001b[0m\u001b[0;34m\u001b[0m\u001b[0;34m\u001b[0m\u001b[0m\n\u001b[0;32m-> 3464\u001b[0;31m             \u001b[0mindexer\u001b[0m \u001b[0;34m=\u001b[0m \u001b[0mself\u001b[0m\u001b[0;34m.\u001b[0m\u001b[0mloc\u001b[0m\u001b[0;34m.\u001b[0m\u001b[0m_get_listlike_indexer\u001b[0m\u001b[0;34m(\u001b[0m\u001b[0mkey\u001b[0m\u001b[0;34m,\u001b[0m \u001b[0maxis\u001b[0m\u001b[0;34m=\u001b[0m\u001b[0;36m1\u001b[0m\u001b[0;34m)\u001b[0m\u001b[0;34m[\u001b[0m\u001b[0;36m1\u001b[0m\u001b[0;34m]\u001b[0m\u001b[0;34m\u001b[0m\u001b[0;34m\u001b[0m\u001b[0m\n\u001b[0m\u001b[1;32m   3465\u001b[0m \u001b[0;34m\u001b[0m\u001b[0m\n\u001b[1;32m   3466\u001b[0m         \u001b[0;31m# take() does not accept boolean indexers\u001b[0m\u001b[0;34m\u001b[0m\u001b[0;34m\u001b[0m\u001b[0;34m\u001b[0m\u001b[0m\n",
            "\u001b[0;32m/usr/local/lib/python3.7/dist-packages/pandas/core/indexing.py\u001b[0m in \u001b[0;36m_get_listlike_indexer\u001b[0;34m(self, key, axis)\u001b[0m\n\u001b[1;32m   1312\u001b[0m             \u001b[0mkeyarr\u001b[0m\u001b[0;34m,\u001b[0m \u001b[0mindexer\u001b[0m\u001b[0;34m,\u001b[0m \u001b[0mnew_indexer\u001b[0m \u001b[0;34m=\u001b[0m \u001b[0max\u001b[0m\u001b[0;34m.\u001b[0m\u001b[0m_reindex_non_unique\u001b[0m\u001b[0;34m(\u001b[0m\u001b[0mkeyarr\u001b[0m\u001b[0;34m)\u001b[0m\u001b[0;34m\u001b[0m\u001b[0;34m\u001b[0m\u001b[0m\n\u001b[1;32m   1313\u001b[0m \u001b[0;34m\u001b[0m\u001b[0m\n\u001b[0;32m-> 1314\u001b[0;31m         \u001b[0mself\u001b[0m\u001b[0;34m.\u001b[0m\u001b[0m_validate_read_indexer\u001b[0m\u001b[0;34m(\u001b[0m\u001b[0mkeyarr\u001b[0m\u001b[0;34m,\u001b[0m \u001b[0mindexer\u001b[0m\u001b[0;34m,\u001b[0m \u001b[0maxis\u001b[0m\u001b[0;34m)\u001b[0m\u001b[0;34m\u001b[0m\u001b[0;34m\u001b[0m\u001b[0m\n\u001b[0m\u001b[1;32m   1315\u001b[0m \u001b[0;34m\u001b[0m\u001b[0m\n\u001b[1;32m   1316\u001b[0m         if needs_i8_conversion(ax.dtype) or isinstance(\n",
            "\u001b[0;32m/usr/local/lib/python3.7/dist-packages/pandas/core/indexing.py\u001b[0m in \u001b[0;36m_validate_read_indexer\u001b[0;34m(self, key, indexer, axis)\u001b[0m\n\u001b[1;32m   1372\u001b[0m                 \u001b[0;32mif\u001b[0m \u001b[0muse_interval_msg\u001b[0m\u001b[0;34m:\u001b[0m\u001b[0;34m\u001b[0m\u001b[0;34m\u001b[0m\u001b[0m\n\u001b[1;32m   1373\u001b[0m                     \u001b[0mkey\u001b[0m \u001b[0;34m=\u001b[0m \u001b[0mlist\u001b[0m\u001b[0;34m(\u001b[0m\u001b[0mkey\u001b[0m\u001b[0;34m)\u001b[0m\u001b[0;34m\u001b[0m\u001b[0;34m\u001b[0m\u001b[0m\n\u001b[0;32m-> 1374\u001b[0;31m                 \u001b[0;32mraise\u001b[0m \u001b[0mKeyError\u001b[0m\u001b[0;34m(\u001b[0m\u001b[0;34mf\"None of [{key}] are in the [{axis_name}]\"\u001b[0m\u001b[0;34m)\u001b[0m\u001b[0;34m\u001b[0m\u001b[0;34m\u001b[0m\u001b[0m\n\u001b[0m\u001b[1;32m   1375\u001b[0m \u001b[0;34m\u001b[0m\u001b[0m\n\u001b[1;32m   1376\u001b[0m             \u001b[0mnot_found\u001b[0m \u001b[0;34m=\u001b[0m \u001b[0mlist\u001b[0m\u001b[0;34m(\u001b[0m\u001b[0mensure_index\u001b[0m\u001b[0;34m(\u001b[0m\u001b[0mkey\u001b[0m\u001b[0;34m)\u001b[0m\u001b[0;34m[\u001b[0m\u001b[0mmissing_mask\u001b[0m\u001b[0;34m.\u001b[0m\u001b[0mnonzero\u001b[0m\u001b[0;34m(\u001b[0m\u001b[0;34m)\u001b[0m\u001b[0;34m[\u001b[0m\u001b[0;36m0\u001b[0m\u001b[0;34m]\u001b[0m\u001b[0;34m]\u001b[0m\u001b[0;34m.\u001b[0m\u001b[0munique\u001b[0m\u001b[0;34m(\u001b[0m\u001b[0;34m)\u001b[0m\u001b[0;34m)\u001b[0m\u001b[0;34m\u001b[0m\u001b[0;34m\u001b[0m\u001b[0m\n",
            "\u001b[0;31mKeyError\u001b[0m: \"None of [Int64Index([114, 115, 116, 117, 118, 119, 120, 121, 122, 123,\\n            ...\\n            445, 446, 447, 448, 449, 450, 451, 452, 453, 454],\\n           dtype='int64', length=341)] are in the [columns]\""
          ]
        }
      ],
      "source": [
        "from sklearn.model_selection import KFold\n",
        "\n",
        "def compute_CV_error(model, X_train, Y_train):\n",
        "    '''\n",
        "    Split the training data into 4 subsets.\n",
        "    For each subset, \n",
        "        fit a model holding out that subset\n",
        "        compute the MSE on that subset (the validation set)\n",
        "    You should be fitting 4 models total.\n",
        "    Return the average MSE of these 4 folds.\n",
        "\n",
        "    Args:\n",
        "        model: an sklearn model with fit and predict functions \n",
        "        X_train (data_frame): Training data\n",
        "        Y_train (data_frame): Label \n",
        "\n",
        "    Return:\n",
        "        the average validation MSE for the 4 splits.\n",
        "    '''\n",
        "    kf = KFold(n_splits=4)\n",
        "    validation_errors = []\n",
        "    \n",
        "    for train_idx, valid_idx in kf.split(X_train):\n",
        "        # split the data       \n",
        "        split_X_train, split_X_valid = X_train[train_idx], X_train[valid_idx]\n",
        "        split_Y_train, split_Y_valid = Y_train[train_idx], Y_train[valid_idx]\n",
        "\n",
        "        # Fit the model on the training split\n",
        "        model.fit(split_X_train, split_Y_train)\n",
        "        \n",
        "        # Compute the RMSE on the validation split\n",
        "        error = rmse(model.predict(split_X_valid), split_Y_valid)\n",
        "\n",
        "\n",
        "        validation_errors.append(error)\n",
        "        \n",
        "    return np.mean(validation_errors)\n",
        "\n",
        "compute_CV_error(linear_model, X_train, Y_train)"
      ]
    },
    {
      "cell_type": "code",
      "execution_count": null,
      "metadata": {
        "deletable": false,
        "editable": false,
        "id": "KlNsH6OKzsKN"
      },
      "outputs": [],
      "source": [
        "grader.check(\"q4\")"
      ]
    },
    {
      "cell_type": "markdown",
      "metadata": {
        "deletable": false,
        "editable": false,
        "nbgrader": {
          "grade": false,
          "grade_id": "cell-60cbde80f3e2acc4",
          "locked": true,
          "schema_version": 2,
          "solution": false
        },
        "id": "dP6KkxcBzsKO"
      },
      "source": [
        "### Question 5\n",
        "\n",
        "Use `compute_CV_error` to determine how many of the first $N$ features we should use to get the lowest average validation error. Then, fill in the variables `best_num_features`, `best_err`.\n",
        "\n",
        "**Hint:** To find the index of the lowest error in `errors`, you may want to use [`np.argmin`](https://docs.scipy.org/doc/numpy/reference/generated/numpy.argmin.html). Watch out for off by one issues when converting the index to the number of features!\n",
        "\n",
        "<!--\n",
        "BEGIN QUESTION\n",
        "name: q5\n",
        "-->"
      ]
    },
    {
      "cell_type": "code",
      "execution_count": null,
      "metadata": {
        "id": "Sosi4mDfzsKO"
      },
      "outputs": [],
      "source": [
        "errors = []\n",
        "for N in range_of_num_features:\n",
        "    print(f\"Trying first {N} features\")\n",
        "    model = lm.LinearRegression()\n",
        "    \n",
        "    # compute the cross validation error\n",
        "    error = ...\n",
        "    \n",
        "    print(\"\\tRMSE:\", error)\n",
        "    errors.append(error)\n",
        "\n",
        "best_num_features = ...\n",
        "best_err = ...\n",
        "\n",
        "print(f\"Best choice, use the first {best_num_features} features\")"
      ]
    },
    {
      "cell_type": "code",
      "execution_count": null,
      "metadata": {
        "deletable": false,
        "editable": false,
        "id": "m2a0MM4MzsKO"
      },
      "outputs": [],
      "source": [
        "grader.check(\"q5\")"
      ]
    },
    {
      "cell_type": "markdown",
      "metadata": {
        "nbgrader": {
          "grade": false,
          "grade_id": "cell-1f5a870c74e96a0c",
          "locked": true,
          "schema_version": 2,
          "solution": false
        },
        "id": "iBV_ey7FzsKO"
      },
      "source": [
        "Why is it logical to use the set of features that result in the smallest average root mean squared error when performing cross-validation? Write your answer in the cell below."
      ]
    },
    {
      "cell_type": "markdown",
      "metadata": {
        "id": "_GvYj9Q5zsKO"
      },
      "source": [
        "_Type your answer here, replacing this text._"
      ]
    },
    {
      "cell_type": "markdown",
      "metadata": {
        "deletable": false,
        "editable": false,
        "nbgrader": {
          "grade": false,
          "grade_id": "q6_text",
          "locked": true,
          "schema_version": 2,
          "solution": false
        },
        "id": "JVEllyYyzsKP"
      },
      "source": [
        "### Question 6\n",
        "\n",
        "Finally, fit a linear model using your best feature set and predict housing prices for your original test set. You can also try to select your own features (on top of the given ones) to lower the RMSE. Compute the final train and test RMSEs for a linear model using your best feature set.\n",
        "\n",
        "<!--\n",
        "BEGIN QUESTION\n",
        "name: q6\n",
        "-->"
      ]
    },
    {
      "cell_type": "code",
      "execution_count": null,
      "metadata": {
        "nbgrader": {
          "grade": false,
          "grade_id": "q6_code",
          "locked": false,
          "schema_version": 2,
          "solution": true
        },
        "tags": [
          "student"
        ],
        "id": "Jn5mjAsJzsKP"
      },
      "outputs": [],
      "source": [
        "# Fit your linear model\n",
        "...\n",
        "\n",
        "# Predict points from our test set and calculate the rmse\n",
        "train_rmse = ... \n",
        "test_rmse = ...\n",
        "\n",
        "print(\"Train RMSE\", train_rmse)\n",
        "print(\"KFold Validation RMSE\", best_err)\n",
        "print(\"Test RMSE\", test_rmse)"
      ]
    },
    {
      "cell_type": "code",
      "execution_count": null,
      "metadata": {
        "deletable": false,
        "editable": false,
        "id": "jvnjSs0ZzsKP"
      },
      "outputs": [],
      "source": [
        "grader.check(\"q6\")"
      ]
    },
    {
      "cell_type": "markdown",
      "metadata": {
        "nbgrader": {
          "grade": false,
          "grade_id": "cell-1073b5a4c1d25928",
          "locked": true,
          "schema_version": 2,
          "solution": false
        },
        "id": "c0ipMcI9zsKP"
      },
      "source": [
        "Here we've plotted a residual plot for each record from `X_test2`. After seeing your testing and training error, it is often helpful to visiualize your error. When points in the residual plot are randomly scattered around the line y = 0, then we know that a linear regression model is good for the data we have."
      ]
    },
    {
      "cell_type": "code",
      "execution_count": null,
      "metadata": {
        "nbgrader": {
          "grade": false,
          "grade_id": "cell-69418d5b2a92f393",
          "locked": true,
          "schema_version": 2,
          "solution": false
        },
        "id": "D--7fV1gzsKP"
      },
      "outputs": [],
      "source": [
        "plt.figure(figsize=(10, 6))\n",
        "fitted_values = model.predict(X_test2.iloc[:, :best_num_features])\n",
        "plt.scatter(fitted_values, Y_test2 - fitted_values)\n",
        "plt.xlabel('Fitted Values')\n",
        "plt.ylabel('residual (true y - estimated y)')\n",
        "plt.title(\"Residual of prediction for i'th house\")\n",
        "plt.axhline(y = 0, color='r');"
      ]
    },
    {
      "cell_type": "markdown",
      "metadata": {
        "nbgrader": {
          "grade": false,
          "grade_id": "cv_text",
          "locked": true,
          "schema_version": 2,
          "solution": false
        },
        "id": "eYcmQLKXzsKP"
      },
      "source": [
        "Nice! You've used $k$-fold cross-validation to fit a linear regression model to the housing data.\n",
        "\n",
        "In the future, you'd probably want to use something like [`cross_val_predict`](http://scikit-learn.org/stable/modules/generated/sklearn.model_selection.cross_val_predict.html) to automatically perform cross-validation, but it's instructive to do it yourself at least once."
      ]
    },
    {
      "cell_type": "markdown",
      "metadata": {
        "nbgrader": {
          "grade": false,
          "grade_id": "finish",
          "locked": true,
          "schema_version": 2,
          "solution": false
        },
        "id": "o2GiPOuizsKP"
      },
      "source": [
        "## Submission\n",
        "\n",
        "Congratulations! You are finished with this assignment. Please don't forget to submit by 11:59pm PST on Thursday, November 4th!"
      ]
    },
    {
      "cell_type": "code",
      "execution_count": null,
      "metadata": {
        "id": "a_l0mX_mzsKQ"
      },
      "outputs": [],
      "source": [
        ""
      ]
    },
    {
      "cell_type": "markdown",
      "metadata": {
        "deletable": false,
        "editable": false,
        "id": "TyPMLvMNzsKQ"
      },
      "source": [
        "---\n",
        "\n",
        "To double-check your work, the cell below will rerun all of the autograder tests."
      ]
    },
    {
      "cell_type": "code",
      "execution_count": null,
      "metadata": {
        "deletable": false,
        "editable": false,
        "id": "ff2KxDUwzsKQ"
      },
      "outputs": [],
      "source": [
        "grader.check_all()"
      ]
    },
    {
      "cell_type": "markdown",
      "metadata": {
        "deletable": false,
        "editable": false,
        "id": "s6cicfCfzsKQ"
      },
      "source": [
        "## Submission\n",
        "\n",
        "Make sure you have run all cells in your notebook in order before running the cell below, so that all images/graphs appear in the output. The cell below will generate a zip file for you to submit. **Please save before exporting!**"
      ]
    },
    {
      "cell_type": "code",
      "execution_count": null,
      "metadata": {
        "deletable": false,
        "editable": false,
        "id": "i6TZh_yXzsKQ"
      },
      "outputs": [],
      "source": [
        "# Save your notebook first, then run this cell to export your submission.\n",
        "grader.export(pdf=False)"
      ]
    },
    {
      "cell_type": "markdown",
      "metadata": {
        "id": "ZnMITufFzsKQ"
      },
      "source": [
        " "
      ]
    }
  ],
  "metadata": {
    "celltoolbar": "Create Assignment",
    "kernelspec": {
      "display_name": "Python 3 (ipykernel)",
      "language": "python",
      "name": "python3"
    },
    "language_info": {
      "codemirror_mode": {
        "name": "ipython",
        "version": 3
      },
      "file_extension": ".py",
      "mimetype": "text/x-python",
      "name": "python",
      "nbconvert_exporter": "python",
      "pygments_lexer": "ipython3",
      "version": "3.9.7"
    },
    "colab": {
      "name": "lab10.ipynb",
      "provenance": []
    }
  },
  "nbformat": 4,
  "nbformat_minor": 0
}